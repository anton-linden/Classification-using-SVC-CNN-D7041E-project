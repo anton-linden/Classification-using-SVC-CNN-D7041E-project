{
 "cells": [
  {
   "cell_type": "markdown",
   "source": [
    "All import need to run the code"
   ],
   "metadata": {
    "collapsed": false
   }
  },
  {
   "cell_type": "code",
   "execution_count": 16,
   "metadata": {
    "collapsed": true
   },
   "outputs": [],
   "source": [
    "import random\n",
    "\n",
    "from matplotlib import pyplot as plt\n",
    "import cv2\n",
    "import numpy as np\n",
    "from tensorflow import keras\n",
    "\n",
    "from sklearn import svm\n",
    "from sklearn.model_selection import GridSearchCV\n",
    "from sklearn.metrics import accuracy_score"
   ]
  },
  {
   "cell_type": "markdown",
   "source": [
    "Load dataset from keras cifar10 - https://keras.io/api/datasets/cifar10/"
   ],
   "metadata": {
    "collapsed": false
   }
  },
  {
   "cell_type": "code",
   "execution_count": 17,
   "outputs": [],
   "source": [
    "def load_dataset(_amount_of_data=1, _test_ratio=0.2):\n",
    "\n",
    "    (_training_classes, _training_labels), (_test_classes, _test_labels) = keras.datasets.cifar10.load_data()\n",
    "    _training_classes, _test_classes = _training_classes / 255.0, _test_classes / 255.0\n",
    "\n",
    "\n",
    "    _training_classes = _training_classes[:int((_amount_of_data * (1-_test_ratio)))]\n",
    "    _training_labels = _training_labels[:int((_amount_of_data * (1-_test_ratio)))]\n",
    "    _test_classes = _test_classes[:int((_amount_of_data * _test_ratio))]\n",
    "    _test_labels = _test_labels[:int((_amount_of_data * _test_ratio))]\n",
    "\n",
    "    _training_classes = flatten_array(_training_classes)\n",
    "    _test_classes = flatten_array(_test_classes)\n",
    "\n",
    "    return (_training_classes, _training_labels), (_test_classes, _test_labels)"
   ],
   "metadata": {
    "collapsed": false
   }
  },
  {
   "cell_type": "markdown",
   "source": [
    "Simple function to rescale the images in the dataset."
   ],
   "metadata": {
    "collapsed": false
   }
  },
  {
   "cell_type": "code",
   "execution_count": 18,
   "outputs": [],
   "source": [
    "def rescale_data(_data):\n",
    "    for pic in range(len(_data)):\n",
    "       _data[pic]  = cv2.resize(_data[pic], (32,32))\n",
    "    return _data"
   ],
   "metadata": {
    "collapsed": false
   }
  },
  {
   "cell_type": "markdown",
   "source": [
    "Simple function to plot an image using matplotlib, pyplot as plt"
   ],
   "metadata": {
    "collapsed": false
   }
  },
  {
   "cell_type": "code",
   "execution_count": 19,
   "outputs": [],
   "source": [
    "def plot_image(_classes):\n",
    "    plt.figure(figsize=(1.5, 1.5))\n",
    "    plt.imshow(_classes.reshape(32,32,3))\n",
    "    plt.show()\n",
    "    plt.close()"
   ],
   "metadata": {
    "collapsed": false
   }
  },
  {
   "cell_type": "markdown",
   "source": [
    "Function to implement bagging for the given dataset. - To read more about bagging, follow this link: https://www.ibm.com/cloud/learn/bagging#:~:text=Bagging%2C%20also%20known%20as%20bootstrap,be%20chosen%20more%20than%20once."
   ],
   "metadata": {
    "collapsed": false
   }
  },
  {
   "cell_type": "code",
   "execution_count": 20,
   "outputs": [],
   "source": [
    "def bagging(_data, _labels, _number_of_bags=3):\n",
    "    _new_lst = []\n",
    "\n",
    "    _current_bag = 0\n",
    "    while _current_bag < _number_of_bags:\n",
    "\n",
    "        _new_lst.append([])\n",
    "\n",
    "        _bag_classes = []\n",
    "        _bag_labels = []\n",
    "\n",
    "        _count = 0\n",
    "        while _count < len(_data):\n",
    "            _index = random.randint(0, len(_data) - 1)\n",
    "            _bag_classes.append(_data[_index])\n",
    "            _bag_labels.append(_labels[_index])\n",
    "            _count += 1\n",
    "\n",
    "        _new_lst[_current_bag].append(np.array(_bag_classes))\n",
    "        _new_lst[_current_bag].append(np.array(_bag_labels))\n",
    "\n",
    "        _current_bag += 1\n",
    "    return _new_lst"
   ],
   "metadata": {
    "collapsed": false
   }
  },
  {
   "cell_type": "markdown",
   "source": [
    "Simple function to flatten an array."
   ],
   "metadata": {
    "collapsed": false
   }
  },
  {
   "cell_type": "code",
   "execution_count": 21,
   "outputs": [],
   "source": [
    "def flatten_array(_array):\n",
    "    _index = 0\n",
    "    _return_lst = []\n",
    "\n",
    "    for item in _array:\n",
    "        _return_lst.append(item.flatten())\n",
    "        _index += 1\n",
    "    return np.array(_return_lst)"
   ],
   "metadata": {
    "collapsed": false
   }
  },
  {
   "cell_type": "markdown",
   "source": [
    "Support vector machine classification implementation"
   ],
   "metadata": {
    "collapsed": false
   }
  },
  {
   "cell_type": "code",
   "execution_count": null,
   "outputs": [],
   "source": [
    "def SVC(_amount_of_data=100, _use_optimization = False):\n",
    "    (_training_classes, _training_labels), (_test_classes, _test_labels) = load_dataset(_amount_of_data=_amount_of_data)\n",
    "\n",
    "    _training_labels = _training_labels.flatten()\n",
    "    _test_labels = _test_labels.flatten()\n",
    "\n",
    "    if _use_optimization:   # Gridsearch, very heavy on the computational side.\n",
    "        param_grid={'C':[0.1,1,10,100],'gamma':[0.0001,0.001,0.1],'kernel':['rbf','poly']}\n",
    "    else:\n",
    "        param_grid = {'C':[0.1],'gamma':[0.01],'kernel':['rbf']}\n",
    "\n",
    "    svc=svm.SVC(probability=True)\n",
    "    model=GridSearchCV(svc, param_grid)\n",
    "\n",
    "    model.fit(_training_classes, _training_labels)\n",
    "    y_pred=model.predict(_test_classes)\n",
    "\n",
    "    print(f\"The model is {accuracy_score(y_pred,_test_labels)*100}% accurate\")\n",
    "    return accuracy_score(y_pred,_test_labels)*100"
   ],
   "metadata": {
    "collapsed": false,
    "pycharm": {
     "is_executing": true
    }
   }
  },
  {
   "cell_type": "markdown",
   "source": [
    "Function to easily run the SVC. Set parameters as you want. It's recommended to read the readme.md file in the GitHub project."
   ],
   "metadata": {
    "collapsed": false
   }
  },
  {
   "cell_type": "code",
   "execution_count": null,
   "outputs": [],
   "source": [
    "def run_multiple_times(_runs=1, _amount_of_data=1000, _use_optimization=False):\n",
    "    _run = 0\n",
    "    _average = 0\n",
    "\n",
    "    while _run < _runs:\n",
    "        _average += SVC(_amount_of_data=_amount_of_data, _use_optimization=_use_optimization)\n",
    "        _run += 1\n",
    "\n",
    "    print(\"Runs completed!\")\n",
    "    print(\" \")\n",
    "    print(\"Average score: \" + str(_average / _runs))\n",
    "\n",
    "run_multiple_times(_runs=1, _amount_of_data=500, _use_optimization=True)"
   ],
   "metadata": {
    "collapsed": false
   }
  }
 ],
 "metadata": {
  "kernelspec": {
   "display_name": "Python 3",
   "language": "python",
   "name": "python3"
  },
  "language_info": {
   "codemirror_mode": {
    "name": "ipython",
    "version": 2
   },
   "file_extension": ".py",
   "mimetype": "text/x-python",
   "name": "python",
   "nbconvert_exporter": "python",
   "pygments_lexer": "ipython2",
   "version": "2.7.6"
  }
 },
 "nbformat": 4,
 "nbformat_minor": 0
}
