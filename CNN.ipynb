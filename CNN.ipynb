{
 "cells": [
  {
   "cell_type": "markdown",
   "source": [
    "All import need to run the code"
   ],
   "metadata": {
    "collapsed": false
   }
  },
  {
   "cell_type": "code",
   "execution_count": 102,
   "metadata": {
    "collapsed": true
   },
   "outputs": [],
   "source": [
    "import numpy as np\n",
    "import tensorflow as tf\n",
    "from tensorflow import keras\n",
    "from keras import layers, models, datasets\n",
    "import cv2\n",
    "import matplotlib.pyplot as plt\n",
    "import random\n",
    "from random import shuffle"
   ]
  },
  {
   "cell_type": "markdown",
   "source": [
    "Load dataset from keras cifar10 - https://keras.io/api/datasets/cifar10/"
   ],
   "metadata": {
    "collapsed": false
   }
  },
  {
   "cell_type": "code",
   "execution_count": 103,
   "outputs": [],
   "source": [
    "def load_dataset(_amount_of_data=1, _test_ratio=0.2):\n",
    "\n",
    "    (_training_classes, _training_labels), (_test_classes, _test_labels) = keras.datasets.cifar10.load_data()\n",
    "    _training_classes, _test_classes = _training_classes / 255.0, _test_classes / 255.0\n",
    "\n",
    "    _training_classes = _training_classes[:int((_amount_of_data * (1-_test_ratio)))]\n",
    "    _training_labels = _training_labels[:int((_amount_of_data * (1-_test_ratio)))]\n",
    "    _test_classes = _test_classes[:int((_amount_of_data * _test_ratio))]\n",
    "    _test_labels = _test_labels[:int((_amount_of_data * _test_ratio))]\n",
    "\n",
    "    return (_training_classes, _training_labels), (_test_classes, _test_labels)"
   ],
   "metadata": {
    "collapsed": false
   }
  },
  {
   "cell_type": "markdown",
   "source": [
    "Simple function to rescale the images in the dataset."
   ],
   "metadata": {
    "collapsed": false
   }
  },
  {
   "cell_type": "code",
   "execution_count": 104,
   "outputs": [],
   "source": [
    "def rescale_data(_data):\n",
    "    for pic in range(len(_data)):\n",
    "       _data[pic]  = cv2.resize(_data[pic], (32,32))\n",
    "    return _data"
   ],
   "metadata": {
    "collapsed": false
   }
  },
  {
   "cell_type": "markdown",
   "source": [
    "Simple function to plot an image using matplotlib, pyplot as plt"
   ],
   "metadata": {
    "collapsed": false
   }
  },
  {
   "cell_type": "code",
   "execution_count": 105,
   "outputs": [],
   "source": [
    "def plot_image(_class):\n",
    "    plt.figure(figsize=(1.5, 1.5))\n",
    "    plt.imshow(_class.reshape(32,32,3))\n",
    "    plt.show()\n",
    "    plt.close()"
   ],
   "metadata": {
    "collapsed": false
   }
  },
  {
   "cell_type": "markdown",
   "source": [
    "Function to implement bagging for the given dataset. - To read more about bagging, follow this link: https://www.ibm.com/cloud/learn/bagging#:~:text=Bagging%2C%20also%20known%20as%20bootstrap,be%20chosen%20more%20than%20once."
   ],
   "metadata": {
    "collapsed": false
   }
  },
  {
   "cell_type": "code",
   "execution_count": 106,
   "outputs": [],
   "source": [
    "def bagging(_data, _labels, _number_of_bags=3):\n",
    "    _new_lst = []\n",
    "\n",
    "    _current_bag = 0\n",
    "    while _current_bag < _number_of_bags:\n",
    "\n",
    "        _new_lst.append([])\n",
    "\n",
    "        _bag_classes = []\n",
    "        _bag_labels = []\n",
    "\n",
    "        _count = 0\n",
    "        while _count < len(_data):\n",
    "            _index = random.randint(0, len(_data) - 1)\n",
    "            _bag_classes.append(_data[_index])\n",
    "            _bag_labels.append(_labels[_index])\n",
    "            _count += 1\n",
    "\n",
    "        _new_lst[_current_bag].append(np.array(_bag_classes))\n",
    "        _new_lst[_current_bag].append(np.array(_bag_labels))\n",
    "\n",
    "        _current_bag += 1\n",
    "    return _new_lst"
   ],
   "metadata": {
    "collapsed": false
   }
  },
  {
   "cell_type": "markdown",
   "source": [
    "Creates the CNN model."
   ],
   "metadata": {
    "collapsed": false
   }
  },
  {
   "cell_type": "code",
   "execution_count": 107,
   "outputs": [],
   "source": [
    "def create_CNN_model():\n",
    "        _model = models.Sequential()\n",
    "        _model.add(layers.Conv2D(32, (3, 3), activation='relu', input_shape=(32, 32, 3)))\n",
    "        _model.add(layers.MaxPooling2D((2, 2)))\n",
    "        _model.add(layers.Conv2D(64, (3, 3), activation='relu'))\n",
    "        _model.add(layers.MaxPooling2D((2, 2)))\n",
    "        _model.add(layers.Conv2D(128, (3, 3), activation='relu'))\n",
    "\n",
    "        _model.add(layers.Flatten())\n",
    "\n",
    "        _model.add(layers.Dense(512, activation='relu'))\n",
    "        _model.add(layers.Dropout(0.1))\n",
    "\n",
    "        _model.add(layers.Dense(256, activation='relu'))\n",
    "\n",
    "        _model.add(layers.Dense(128, activation='softmax'))\n",
    "\n",
    "        _model.compile(optimizer='adam',\n",
    "                      loss=tf.keras.losses.SparseCategoricalCrossentropy(from_logits=True),\n",
    "                      metrics=['accuracy'])\n",
    "        return _model"
   ],
   "metadata": {
    "collapsed": false
   }
  },
  {
   "cell_type": "markdown",
   "source": [
    "Function to set up and run the CNN with the bagging technique once."
   ],
   "metadata": {
    "collapsed": false
   }
  },
  {
   "cell_type": "code",
   "execution_count": 108,
   "outputs": [],
   "source": [
    "def run_with_bagging(_training_classes, _training_labels, _test_classes, _test_labels, _number_of_bags=3, _epochs=10):\n",
    "\n",
    "    _model = create_CNN_model()\n",
    "\n",
    "    lst = bagging(_training_classes, _training_labels, _number_of_bags)\n",
    "\n",
    "    _count = 1\n",
    "    _history = _model.fit(lst[0][0], lst[0][1], epochs=_epochs)\n",
    "\n",
    "    while _count < _number_of_bags - 1:\n",
    "        _history = _model.fit(lst[_count][0], lst[_count][1], epochs=_epochs)\n",
    "        _count += 1\n",
    "\n",
    "    _history = _model.fit(lst[_count][0], lst[_count][1], epochs=_epochs,\n",
    "                    validation_data=(_test_classes, _test_labels))\n",
    "\n",
    "    return _history, _model"
   ],
   "metadata": {
    "collapsed": false
   }
  },
  {
   "cell_type": "markdown",
   "source": [
    "Function to set up and run the CNN without the bagging technique once."
   ],
   "metadata": {
    "collapsed": false
   }
  },
  {
   "cell_type": "code",
   "execution_count": 109,
   "outputs": [],
   "source": [
    "def run_without_bagging(_classes, _labels, _test_classes, _test_labels, _epochs=10):\n",
    "\n",
    "        _model = create_CNN_model()\n",
    "\n",
    "        _history = _model.fit(_classes, _labels, epochs=_epochs,\n",
    "                    validation_data=(_test_classes, _test_labels))\n",
    "\n",
    "        return _history, _model"
   ],
   "metadata": {
    "collapsed": false
   }
  },
  {
   "cell_type": "markdown",
   "source": [
    "Simple function to plot the results of any run in a combined graph."
   ],
   "metadata": {
    "collapsed": false
   }
  },
  {
   "cell_type": "code",
   "execution_count": 110,
   "outputs": [],
   "source": [
    "def plot_result(_history, _test_classes, _test_labels, _model):\n",
    "    plt.plot(_history.history['accuracy'], label='accuracy')\n",
    "    plt.plot(_history.history['val_accuracy'], label = 'val_accuracy')\n",
    "    plt.xlabel('Epoch')\n",
    "    plt.ylabel('Accuracy')\n",
    "    plt.ylim([0.1, 1])\n",
    "    plt.legend(loc='lower right')\n",
    "\n",
    "    test_loss, test_acc = _model.evaluate(_test_classes,  _test_labels, verbose=2)"
   ],
   "metadata": {
    "collapsed": false
   }
  },
  {
   "cell_type": "markdown",
   "source": [
    "Function to run the CNN multiple times with/without bagging."
   ],
   "metadata": {
    "collapsed": false
   }
  },
  {
   "cell_type": "code",
   "execution_count": 111,
   "outputs": [
    {
     "name": "stdout",
     "output_type": "stream",
     "text": [
      "Epoch 1/10\n",
      "250/250 [==============================] - 6s 24ms/step - loss: 2.0423 - accuracy: 0.2546 - val_loss: 1.7476 - val_accuracy: 0.3325\n",
      "Epoch 2/10\n",
      "250/250 [==============================] - 6s 24ms/step - loss: 1.6061 - accuracy: 0.4128 - val_loss: 1.5388 - val_accuracy: 0.4500\n",
      "Epoch 3/10\n",
      "250/250 [==============================] - 6s 24ms/step - loss: 1.4325 - accuracy: 0.4798 - val_loss: 1.3799 - val_accuracy: 0.4995\n",
      "Epoch 4/10\n",
      "250/250 [==============================] - 6s 24ms/step - loss: 1.2918 - accuracy: 0.5319 - val_loss: 1.3256 - val_accuracy: 0.5240\n",
      "Epoch 5/10\n",
      "250/250 [==============================] - 6s 23ms/step - loss: 1.1628 - accuracy: 0.5810 - val_loss: 1.2503 - val_accuracy: 0.5710\n",
      "Epoch 6/10\n",
      "250/250 [==============================] - 6s 23ms/step - loss: 1.0290 - accuracy: 0.6360 - val_loss: 1.2070 - val_accuracy: 0.5815\n",
      "Epoch 7/10\n",
      "250/250 [==============================] - 6s 23ms/step - loss: 0.9094 - accuracy: 0.6720 - val_loss: 1.1713 - val_accuracy: 0.5975\n",
      "Epoch 8/10\n",
      "250/250 [==============================] - 6s 23ms/step - loss: 0.7748 - accuracy: 0.7266 - val_loss: 1.2886 - val_accuracy: 0.5690\n",
      "Epoch 9/10\n",
      "250/250 [==============================] - 6s 23ms/step - loss: 0.6431 - accuracy: 0.7739 - val_loss: 1.2862 - val_accuracy: 0.5985\n",
      "Epoch 10/10\n",
      "250/250 [==============================] - 6s 23ms/step - loss: 0.5282 - accuracy: 0.8111 - val_loss: 1.5243 - val_accuracy: 0.5790\n",
      "63/63 - 0s - loss: 1.5243 - accuracy: 0.5790 - 387ms/epoch - 6ms/step\n"
     ]
    },
    {
     "data": {
      "text/plain": "<Figure size 640x480 with 1 Axes>",
      "image/png": "[encoded data removed]"
     },
     "metadata": {},
     "output_type": "display_data"
    }
   ],
   "source": [
    "def run_multiple_times(_runs=5, _amount_of_data=1000, _epochs=10):\n",
    "\n",
    "    _run_count = 0\n",
    "    while _run_count < _runs:\n",
    "\n",
    "        (_training_classes, _training_labels), (_test_classes, _test_labels) = load_dataset(_amount_of_data=_amount_of_data)\n",
    "\n",
    "        _training_labels = np.array(_training_labels.flatten())\n",
    "        _test_labels = np.array(_test_labels.flatten())\n",
    "\n",
    "        # Comment in this line to run the CNN without bagging.\n",
    "        _model_history, _model = run_without_bagging(_training_classes, _training_labels, _test_classes, _test_labels, _epochs=_epochs)\n",
    "\n",
    "        # Comment in this line to run the CNN with bagging.\n",
    "        # _model_history, _model = run_with_bagging(_training_classes, _training_labels, _test_classes, _test_labels, _number_of_bags=5, _epochs=_epochs)\n",
    "\n",
    "        plot_result(_model_history, _test_classes, _test_labels, _model)\n",
    "        _run_count += 1\n",
    "\n",
    "\n",
    "# Set these parameters to the desired size of data and amount of runs. Has defaults if forgotten.\n",
    "run_multiple_times(_runs=1, _amount_of_data=10000, _epochs=10)"
   ],
   "metadata": {
    "collapsed": false
   }
  }
 ],
 "metadata": {
  "kernelspec": {
   "display_name": "Python 3",
   "language": "python",
   "name": "python3"
  },
  "language_info": {
   "codemirror_mode": {
    "name": "ipython",
    "version": 2
   },
   "file_extension": ".py",
   "mimetype": "text/x-python",
   "name": "python",
   "nbconvert_exporter": "python",
   "pygments_lexer": "ipython2",
   "version": "2.7.6"
  }
 },
 "nbformat": 4,
 "nbformat_minor": 0
}
